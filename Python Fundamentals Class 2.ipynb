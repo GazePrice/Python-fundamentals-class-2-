{
 "cells": [
  {
   "cell_type": "code",
   "execution_count": 2,
   "id": "77c03d22-b658-42a9-82f5-47134f807c13",
   "metadata": {},
   "outputs": [
    {
     "name": "stdout",
     "output_type": "stream",
     "text": [
      "My name is Sameer\n"
     ]
    }
   ],
   "source": [
    "print('My name is Sameer')"
   ]
  },
  {
   "cell_type": "code",
   "execution_count": 3,
   "id": "8c24a83d-60a9-481a-a48f-f62b01db5191",
   "metadata": {},
   "outputs": [
    {
     "name": "stdout",
     "output_type": "stream",
     "text": [
      "my name is khan\n"
     ]
    }
   ],
   "source": [
    "print(\"my name is khan\")\n"
   ]
  },
  {
   "cell_type": "code",
   "execution_count": null,
   "id": "a13000c5-ff98-4955-bb83-6d06a3597cd6",
   "metadata": {},
   "outputs": [],
   "source": []
  }
 ],
 "metadata": {
  "kernelspec": {
   "display_name": "Python 3 (ipykernel)",
   "language": "python",
   "name": "python3"
  },
  "language_info": {
   "codemirror_mode": {
    "name": "ipython",
    "version": 3
   },
   "file_extension": ".py",
   "mimetype": "text/x-python",
   "name": "python",
   "nbconvert_exporter": "python",
   "pygments_lexer": "ipython3",
   "version": "3.13.5"
  }
 },
 "nbformat": 4,
 "nbformat_minor": 5
}
